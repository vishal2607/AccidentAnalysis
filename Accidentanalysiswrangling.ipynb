{
 "cells": [
  {
   "cell_type": "code",
   "execution_count": 35,
   "metadata": {},
   "outputs": [],
   "source": [
    "import os\n",
    "import pandas as pd\n",
    "import datetime as dt"
   ]
  },
  {
   "cell_type": "code",
   "execution_count": 36,
   "metadata": {},
   "outputs": [],
   "source": [
    "os.getcwd()\n",
    "os.chdir(\"C:/Users/visha/OneDrive/Desktop/Semester-3/FIT5147/Assignment/Assignment-2\")"
   ]
  },
  {
   "cell_type": "code",
   "execution_count": 37,
   "metadata": {},
   "outputs": [],
   "source": [
    "df=pd.read_csv(\"Crashes_Last_Five_Years.csv\")"
   ]
  },
  {
   "cell_type": "code",
   "execution_count": 38,
   "metadata": {},
   "outputs": [
    {
     "data": {
      "text/plain": [
       "Index(['X', 'Y', 'OBJECTID', 'ACCIDENT_NO', 'ABS_CODE', 'ACCIDENT_STATUS',\n",
       "       'ACCIDENT_DATE', 'ACCIDENT_TIME', 'ALCOHOLTIME', 'ACCIDENT_TYPE',\n",
       "       'DAY_OF_WEEK', 'DCA_CODE', 'HIT_RUN_FLAG', 'LIGHT_CONDITION',\n",
       "       'POLICE_ATTEND', 'ROAD_GEOMETRY', 'SEVERITY', 'SPEED_ZONE',\n",
       "       'RUN_OFFROAD', 'NODE_ID', 'LONGITUDE', 'LATITUDE', 'NODE_TYPE',\n",
       "       'LGA_NAME', 'REGION_NAME', 'VICGRID_X', 'VICGRID_Y', 'TOTAL_PERSONS',\n",
       "       'INJ_OR_FATAL', 'FATALITY', 'SERIOUSINJURY', 'OTHERINJURY',\n",
       "       'NONINJURED', 'MALES', 'FEMALES', 'BICYCLIST', 'PASSENGER', 'DRIVER',\n",
       "       'PEDESTRIAN', 'PILLION', 'MOTORIST', 'UNKNOWN', 'PED_CYCLIST_5_12',\n",
       "       'PED_CYCLIST_13_18', 'OLD_PEDESTRIAN', 'OLD_DRIVER', 'YOUNG_DRIVER',\n",
       "       'ALCOHOL_RELATED', 'UNLICENCSED', 'NO_OF_VEHICLES', 'HEAVYVEHICLE',\n",
       "       'PASSENGERVEHICLE', 'MOTORCYCLE', 'PUBLICVEHICLE', 'DEG_URBAN_NAME',\n",
       "       'DEG_URBAN_ALL', 'LGA_NAME_ALL', 'REGION_NAME_ALL', 'SRNS', 'SRNS_ALL',\n",
       "       'RMA', 'RMA_ALL', 'DIVIDED', 'DIVIDED_ALL', 'STAT_DIV_NAME'],\n",
       "      dtype='object')"
      ]
     },
     "execution_count": 38,
     "metadata": {},
     "output_type": "execute_result"
    }
   ],
   "source": [
    "df.columns"
   ]
  },
  {
   "cell_type": "code",
   "execution_count": 39,
   "metadata": {},
   "outputs": [],
   "source": [
    "df.drop('ACCIDENT_STATUS',axis=1, inplace=True)\n",
    "df.drop(['Y','NODE_TYPE','NODE_ID','VICGRID_X','VICGRID_Y','LGA_NAME_ALL','DEG_URBAN_NAME','REGION_NAME_ALL','SRNS','SRNS_ALL','RMA_ALL','DIVIDED','DIVIDED_ALL'],axis=1, inplace=True)\n",
    "df.drop(['X','OBJECTID','ACCIDENT_NO','ABS_CODE','BICYCLIST', 'PASSENGER', 'DRIVER', 'PEDESTRIAN', 'PILLION',\n",
    "       'MOTORIST', 'UNKNOWN', 'PED_CYCLIST_5_12', 'PED_CYCLIST_13_18','OLD_PEDESTRIAN'],axis=1, inplace=True)\n",
    "df.drop('RMA',axis=1,inplace=True)"
   ]
  },
  {
   "cell_type": "code",
   "execution_count": 40,
   "metadata": {},
   "outputs": [],
   "source": [
    "###date extraction"
   ]
  },
  {
   "cell_type": "code",
   "execution_count": 41,
   "metadata": {},
   "outputs": [],
   "source": [
    "##### There are wrong values in the days of the week column and null values.. so it's better to replace it with dt.weekday_name"
   ]
  },
  {
   "cell_type": "code",
   "execution_count": 42,
   "metadata": {},
   "outputs": [],
   "source": [
    " df['ACCIDENT_DATE'] = pd.to_datetime(df['ACCIDENT_DATE'], unit='ns')"
   ]
  },
  {
   "cell_type": "code",
   "execution_count": 43,
   "metadata": {},
   "outputs": [],
   "source": [
    "df['ACCIDENT_DATE'] = [d.date() for d in df['ACCIDENT_DATE']]"
   ]
  },
  {
   "cell_type": "code",
   "execution_count": 44,
   "metadata": {},
   "outputs": [],
   "source": [
    "df[['year','month','day']] = df['ACCIDENT_DATE'].apply(lambda x: pd.Series(x.strftime(\"%Y-%m-%d\").split(\"-\")))"
   ]
  },
  {
   "cell_type": "code",
   "execution_count": 45,
   "metadata": {},
   "outputs": [],
   "source": [
    "df['day'] = pd.to_numeric(df['day'], errors='coerce')\n",
    "df['month'] = pd.to_numeric(df['month'], errors='coerce')\n",
    "df['year'] = pd.to_numeric(df['year'], errors='coerce')"
   ]
  },
  {
   "cell_type": "code",
   "execution_count": 46,
   "metadata": {},
   "outputs": [],
   "source": [
    "for index, d in enumerate(df['day']):\n",
    "        if(d <13): \n",
    "            df.loc[index,'day'],df.loc[index,'month']=df.loc[index,'month'],df.loc[index,'day'] "
   ]
  },
  {
   "cell_type": "code",
   "execution_count": 47,
   "metadata": {},
   "outputs": [],
   "source": [
    " df['day'] = df['day'].astype(str)\n",
    " df['month'] = df['month'].astype(str)\n",
    " df['year'] = df['year'].astype(str)\n",
    " df['ACCIDENT_DATE']=  pd.to_datetime(df[['year', 'month', 'day']])"
   ]
  },
  {
   "cell_type": "code",
   "execution_count": 48,
   "metadata": {},
   "outputs": [],
   "source": [
    "df['DAY_OF_WEEK']=df['ACCIDENT_DATE'].dt.weekday_name"
   ]
  },
  {
   "cell_type": "code",
   "execution_count": 49,
   "metadata": {},
   "outputs": [],
   "source": [
    "####SPEED####"
   ]
  },
  {
   "cell_type": "code",
   "execution_count": 50,
   "metadata": {},
   "outputs": [],
   "source": [
    "df['SPEED_ZONE'] = df['SPEED_ZONE'].str.replace(r'\\D', '')"
   ]
  },
  {
   "cell_type": "code",
   "execution_count": 51,
   "metadata": {},
   "outputs": [],
   "source": [
    "df['SPEED_ZONE']=df['SPEED_ZONE'].replace(r'', 0)"
   ]
  },
  {
   "cell_type": "code",
   "execution_count": 52,
   "metadata": {},
   "outputs": [],
   "source": [
    "df['SPEED_ZONE']=df['SPEED_ZONE'].astype(int)"
   ]
  },
  {
   "cell_type": "code",
   "execution_count": 53,
   "metadata": {},
   "outputs": [
    {
     "data": {
      "text/plain": [
       "SEVERITY\n",
       "Fatal accident             81.236682\n",
       "Non injury accident         0.000000\n",
       "Other injury accident      61.342059\n",
       "Serious injury accident    66.758963\n",
       "Name: SPEED_ZONE, dtype: float64"
      ]
     },
     "execution_count": 53,
     "metadata": {},
     "output_type": "execute_result"
    }
   ],
   "source": [
    "df.groupby('SEVERITY')['SPEED_ZONE'].mean()"
   ]
  },
  {
   "cell_type": "code",
   "execution_count": 54,
   "metadata": {},
   "outputs": [],
   "source": [
    "df=df[df['SPEED_ZONE'] !=0]"
   ]
  },
  {
   "cell_type": "code",
   "execution_count": 55,
   "metadata": {},
   "outputs": [],
   "source": [
    "df.loc[(df['SEVERITY'] == 'Serious injury accident') & (df['SPEED_ZONE'] ==0),'SPEED_ZONE'] = 70"
   ]
  },
  {
   "cell_type": "code",
   "execution_count": 56,
   "metadata": {},
   "outputs": [],
   "source": [
    "df.loc[(df['SEVERITY'] == 'Fatal accident') & (df['SPEED_ZONE'] ==0),'SPEED_ZONE'] = 80"
   ]
  },
  {
   "cell_type": "code",
   "execution_count": 57,
   "metadata": {},
   "outputs": [],
   "source": [
    "df.loc[(df['SEVERITY'] == 'Other injury accident') & (df['SPEED_ZONE'] ==0),'SPEED_ZONE'] = 60"
   ]
  },
  {
   "cell_type": "code",
   "execution_count": 58,
   "metadata": {},
   "outputs": [],
   "source": [
    "#converting all the unknown light condition to dark or day\n",
    "df.loc[(df['LIGHT_CONDITION']==\"Dark Street lights on\"),'LIGHT_CONDITION']=\"Night\"\n",
    "df.loc[(df['LIGHT_CONDITION']==\"Dark No street lights\"),'LIGHT_CONDITION']=\"Night\"\n",
    "df.loc[(df['LIGHT_CONDITION']==\"Dark Street lights unknown\",'LIGHT_CONDITION')]=\"Night\"\n",
    "df.loc[(df['LIGHT_CONDITION']==\"Dark Street lights off\"),'LIGHT_CONDITION']=\"Night\""
   ]
  },
  {
   "cell_type": "code",
   "execution_count": 59,
   "metadata": {},
   "outputs": [],
   "source": [
    "#dropping rows that has no value"
   ]
  },
  {
   "cell_type": "code",
   "execution_count": 60,
   "metadata": {},
   "outputs": [
    {
     "data": {
      "text/plain": [
       "69882"
      ]
     },
     "execution_count": 60,
     "metadata": {},
     "output_type": "execute_result"
    }
   ],
   "source": [
    "len(df)"
   ]
  },
  {
   "cell_type": "code",
   "execution_count": 61,
   "metadata": {},
   "outputs": [
    {
     "data": {
      "text/plain": [
       "69882"
      ]
     },
     "execution_count": 61,
     "metadata": {},
     "output_type": "execute_result"
    }
   ],
   "source": [
    "len(df)"
   ]
  },
  {
   "cell_type": "code",
   "execution_count": 64,
   "metadata": {},
   "outputs": [],
   "source": [
    "df=df[df['ROAD_GEOMETRY']!='Unknown']"
   ]
  },
  {
   "cell_type": "code",
   "execution_count": 66,
   "metadata": {},
   "outputs": [
    {
     "data": {
      "text/plain": [
       "69807"
      ]
     },
     "execution_count": 66,
     "metadata": {},
     "output_type": "execute_result"
    }
   ],
   "source": [
    "len(df)"
   ]
  },
  {
   "cell_type": "code",
   "execution_count": 65,
   "metadata": {},
   "outputs": [],
   "source": [
    "df.to_excel('C:/Users/visha/OneDrive/Desktop/Semester-3/FIT5147/Assignment/Assignment-2/Project/cleanedall2204.xlsx')"
   ]
  },
  {
   "cell_type": "code",
   "execution_count": null,
   "metadata": {},
   "outputs": [],
   "source": []
  },
  {
   "cell_type": "code",
   "execution_count": null,
   "metadata": {},
   "outputs": [],
   "source": []
  },
  {
   "cell_type": "code",
   "execution_count": 103,
   "metadata": {},
   "outputs": [],
   "source": [
    "df.to_csv('C:/Users/visha/OneDrive/Desktop/Semester-3/FIT5147/Assignment/Assignment-2/Project/twocleanedall2204.csv')"
   ]
  },
  {
   "cell_type": "code",
   "execution_count": null,
   "metadata": {},
   "outputs": [],
   "source": []
  }
 ],
 "metadata": {
  "kernelspec": {
   "display_name": "Python 3",
   "language": "python",
   "name": "python3"
  },
  "language_info": {
   "codemirror_mode": {
    "name": "ipython",
    "version": 3
   },
   "file_extension": ".py",
   "mimetype": "text/x-python",
   "name": "python",
   "nbconvert_exporter": "python",
   "pygments_lexer": "ipython3",
   "version": "3.7.3"
  }
 },
 "nbformat": 4,
 "nbformat_minor": 2
}
